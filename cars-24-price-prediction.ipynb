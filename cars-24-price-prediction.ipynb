{
 "cells": [
  {
   "cell_type": "code",
   "execution_count": 1,
   "id": "3302358e",
   "metadata": {
    "_cell_guid": "b1076dfc-b9ad-4769-8c92-a6c4dae69d19",
    "_uuid": "8f2839f25d086af736a60e9eeb907d3b93b6e0e5",
    "execution": {
     "iopub.execute_input": "2025-07-11T00:04:46.237697Z",
     "iopub.status.busy": "2025-07-11T00:04:46.237403Z",
     "iopub.status.idle": "2025-07-11T00:04:47.747666Z",
     "shell.execute_reply": "2025-07-11T00:04:47.746690Z"
    },
    "papermill": {
     "duration": 1.516499,
     "end_time": "2025-07-11T00:04:47.748840",
     "exception": false,
     "start_time": "2025-07-11T00:04:46.232341",
     "status": "completed"
    },
    "tags": []
   },
   "outputs": [
    {
     "name": "stdout",
     "output_type": "stream",
     "text": [
      "/kaggle/input/cars24-car-price/cars24-car-price-cleaned.csv\n"
     ]
    }
   ],
   "source": [
    "# This Python 3 environment comes with many helpful analytics libraries installed\n",
    "# It is defined by the kaggle/python Docker image: https://github.com/kaggle/docker-python\n",
    "# For example, here's several helpful packages to load\n",
    "\n",
    "import numpy as np # linear algebra\n",
    "import pandas as pd # data processing, CSV file I/O (e.g. pd.read_csv)\n",
    "\n",
    "# Input data files are available in the read-only \"../input/\" directory\n",
    "# For example, running this (by clicking run or pressing Shift+Enter) will list all files under the input directory\n",
    "\n",
    "import os\n",
    "for dirname, _, filenames in os.walk('/kaggle/input'):\n",
    "    for filename in filenames:\n",
    "        print(os.path.join(dirname, filename))\n",
    "\n",
    "# You can write up to 20GB to the current directory (/kaggle/working/) that gets preserved as output when you create a version using \"Save & Run All\" \n",
    "# You can also write temporary files to /kaggle/temp/, but they won't be saved outside of the current session"
   ]
  },
  {
   "cell_type": "code",
   "execution_count": 2,
   "id": "c45e04cb",
   "metadata": {
    "execution": {
     "iopub.execute_input": "2025-07-11T00:04:47.756471Z",
     "iopub.status.busy": "2025-07-11T00:04:47.756117Z",
     "iopub.status.idle": "2025-07-11T00:04:47.817675Z",
     "shell.execute_reply": "2025-07-11T00:04:47.816943Z"
    },
    "papermill": {
     "duration": 0.066738,
     "end_time": "2025-07-11T00:04:47.819049",
     "exception": false,
     "start_time": "2025-07-11T00:04:47.752311",
     "status": "completed"
    },
    "tags": []
   },
   "outputs": [],
   "source": [
    "df = pd.read_csv('/kaggle/input/cars24-car-price/cars24-car-price-cleaned.csv')\n",
    "\n",
    "%config IPCompleter.greedy = True\n",
    "%config IPCompleter.use_jedi = True"
   ]
  },
  {
   "cell_type": "code",
   "execution_count": 3,
   "id": "edf0de73",
   "metadata": {
    "execution": {
     "iopub.execute_input": "2025-07-11T00:04:47.826565Z",
     "iopub.status.busy": "2025-07-11T00:04:47.826306Z",
     "iopub.status.idle": "2025-07-11T00:04:47.849850Z",
     "shell.execute_reply": "2025-07-11T00:04:47.849162Z"
    },
    "papermill": {
     "duration": 0.028556,
     "end_time": "2025-07-11T00:04:47.851083",
     "exception": false,
     "start_time": "2025-07-11T00:04:47.822527",
     "status": "completed"
    },
    "tags": []
   },
   "outputs": [
    {
     "data": {
      "text/html": [
       "<div>\n",
       "<style scoped>\n",
       "    .dataframe tbody tr th:only-of-type {\n",
       "        vertical-align: middle;\n",
       "    }\n",
       "\n",
       "    .dataframe tbody tr th {\n",
       "        vertical-align: top;\n",
       "    }\n",
       "\n",
       "    .dataframe thead th {\n",
       "        text-align: right;\n",
       "    }\n",
       "</style>\n",
       "<table border=\"1\" class=\"dataframe\">\n",
       "  <thead>\n",
       "    <tr style=\"text-align: right;\">\n",
       "      <th></th>\n",
       "      <th>selling_price</th>\n",
       "      <th>year</th>\n",
       "      <th>km_driven</th>\n",
       "      <th>mileage</th>\n",
       "      <th>engine</th>\n",
       "      <th>max_power</th>\n",
       "      <th>age</th>\n",
       "      <th>make</th>\n",
       "      <th>model</th>\n",
       "      <th>Individual</th>\n",
       "      <th>Trustmark Dealer</th>\n",
       "      <th>Diesel</th>\n",
       "      <th>Electric</th>\n",
       "      <th>LPG</th>\n",
       "      <th>Petrol</th>\n",
       "      <th>Manual</th>\n",
       "      <th>5</th>\n",
       "      <th>&gt;5</th>\n",
       "    </tr>\n",
       "  </thead>\n",
       "  <tbody>\n",
       "    <tr>\n",
       "      <th>0</th>\n",
       "      <td>1.20</td>\n",
       "      <td>2012.0</td>\n",
       "      <td>120000</td>\n",
       "      <td>19.70</td>\n",
       "      <td>796.0</td>\n",
       "      <td>46.30</td>\n",
       "      <td>11.0</td>\n",
       "      <td>MARUTI</td>\n",
       "      <td>ALTO STD</td>\n",
       "      <td>1</td>\n",
       "      <td>0</td>\n",
       "      <td>0</td>\n",
       "      <td>0</td>\n",
       "      <td>0</td>\n",
       "      <td>1</td>\n",
       "      <td>1</td>\n",
       "      <td>1</td>\n",
       "      <td>0</td>\n",
       "    </tr>\n",
       "    <tr>\n",
       "      <th>1</th>\n",
       "      <td>5.50</td>\n",
       "      <td>2016.0</td>\n",
       "      <td>20000</td>\n",
       "      <td>18.90</td>\n",
       "      <td>1197.0</td>\n",
       "      <td>82.00</td>\n",
       "      <td>7.0</td>\n",
       "      <td>HYUNDAI</td>\n",
       "      <td>GRAND I10 ASTA</td>\n",
       "      <td>1</td>\n",
       "      <td>0</td>\n",
       "      <td>0</td>\n",
       "      <td>0</td>\n",
       "      <td>0</td>\n",
       "      <td>1</td>\n",
       "      <td>1</td>\n",
       "      <td>1</td>\n",
       "      <td>0</td>\n",
       "    </tr>\n",
       "    <tr>\n",
       "      <th>2</th>\n",
       "      <td>2.15</td>\n",
       "      <td>2010.0</td>\n",
       "      <td>60000</td>\n",
       "      <td>17.00</td>\n",
       "      <td>1197.0</td>\n",
       "      <td>80.00</td>\n",
       "      <td>13.0</td>\n",
       "      <td>HYUNDAI</td>\n",
       "      <td>I20 ASTA</td>\n",
       "      <td>1</td>\n",
       "      <td>0</td>\n",
       "      <td>0</td>\n",
       "      <td>0</td>\n",
       "      <td>0</td>\n",
       "      <td>1</td>\n",
       "      <td>1</td>\n",
       "      <td>1</td>\n",
       "      <td>0</td>\n",
       "    </tr>\n",
       "    <tr>\n",
       "      <th>3</th>\n",
       "      <td>2.26</td>\n",
       "      <td>2012.0</td>\n",
       "      <td>37000</td>\n",
       "      <td>20.92</td>\n",
       "      <td>998.0</td>\n",
       "      <td>67.10</td>\n",
       "      <td>11.0</td>\n",
       "      <td>MARUTI</td>\n",
       "      <td>ALTO K10 2010-2014 VXI</td>\n",
       "      <td>1</td>\n",
       "      <td>0</td>\n",
       "      <td>0</td>\n",
       "      <td>0</td>\n",
       "      <td>0</td>\n",
       "      <td>1</td>\n",
       "      <td>1</td>\n",
       "      <td>1</td>\n",
       "      <td>0</td>\n",
       "    </tr>\n",
       "    <tr>\n",
       "      <th>4</th>\n",
       "      <td>5.70</td>\n",
       "      <td>2015.0</td>\n",
       "      <td>30000</td>\n",
       "      <td>22.77</td>\n",
       "      <td>1498.0</td>\n",
       "      <td>98.59</td>\n",
       "      <td>8.0</td>\n",
       "      <td>FORD</td>\n",
       "      <td>ECOSPORT 2015-2021 1.5 TDCI TITANIUM BSIV</td>\n",
       "      <td>0</td>\n",
       "      <td>0</td>\n",
       "      <td>1</td>\n",
       "      <td>0</td>\n",
       "      <td>0</td>\n",
       "      <td>0</td>\n",
       "      <td>1</td>\n",
       "      <td>1</td>\n",
       "      <td>0</td>\n",
       "    </tr>\n",
       "  </tbody>\n",
       "</table>\n",
       "</div>"
      ],
      "text/plain": [
       "   selling_price    year  km_driven  mileage  engine  max_power   age  \\\n",
       "0           1.20  2012.0     120000    19.70   796.0      46.30  11.0   \n",
       "1           5.50  2016.0      20000    18.90  1197.0      82.00   7.0   \n",
       "2           2.15  2010.0      60000    17.00  1197.0      80.00  13.0   \n",
       "3           2.26  2012.0      37000    20.92   998.0      67.10  11.0   \n",
       "4           5.70  2015.0      30000    22.77  1498.0      98.59   8.0   \n",
       "\n",
       "      make                                      model  Individual  \\\n",
       "0   MARUTI                                   ALTO STD           1   \n",
       "1  HYUNDAI                             GRAND I10 ASTA           1   \n",
       "2  HYUNDAI                                   I20 ASTA           1   \n",
       "3   MARUTI                     ALTO K10 2010-2014 VXI           1   \n",
       "4     FORD  ECOSPORT 2015-2021 1.5 TDCI TITANIUM BSIV           0   \n",
       "\n",
       "   Trustmark Dealer  Diesel  Electric  LPG  Petrol  Manual  5  >5  \n",
       "0                 0       0         0    0       1       1  1   0  \n",
       "1                 0       0         0    0       1       1  1   0  \n",
       "2                 0       0         0    0       1       1  1   0  \n",
       "3                 0       0         0    0       1       1  1   0  \n",
       "4                 0       1         0    0       0       1  1   0  "
      ]
     },
     "execution_count": 3,
     "metadata": {},
     "output_type": "execute_result"
    }
   ],
   "source": [
    "df.head()"
   ]
  },
  {
   "cell_type": "code",
   "execution_count": 4,
   "id": "98091e1f",
   "metadata": {
    "execution": {
     "iopub.execute_input": "2025-07-11T00:04:47.859570Z",
     "iopub.status.busy": "2025-07-11T00:04:47.859263Z",
     "iopub.status.idle": "2025-07-11T00:04:47.871964Z",
     "shell.execute_reply": "2025-07-11T00:04:47.870908Z"
    },
    "papermill": {
     "duration": 0.018697,
     "end_time": "2025-07-11T00:04:47.873510",
     "exception": false,
     "start_time": "2025-07-11T00:04:47.854813",
     "status": "completed"
    },
    "tags": []
   },
   "outputs": [
    {
     "data": {
      "text/plain": [
       "selling_price       0\n",
       "year                0\n",
       "km_driven           0\n",
       "mileage             0\n",
       "engine              0\n",
       "max_power           0\n",
       "age                 0\n",
       "make                0\n",
       "model               0\n",
       "Individual          0\n",
       "Trustmark Dealer    0\n",
       "Diesel              0\n",
       "Electric            0\n",
       "LPG                 0\n",
       "Petrol              0\n",
       "Manual              0\n",
       "5                   0\n",
       ">5                  0\n",
       "dtype: int64"
      ]
     },
     "execution_count": 4,
     "metadata": {},
     "output_type": "execute_result"
    }
   ],
   "source": [
    "#Check for null values\n",
    "df.isna().sum()"
   ]
  },
  {
   "cell_type": "code",
   "execution_count": 5,
   "id": "fd65c3cc",
   "metadata": {
    "execution": {
     "iopub.execute_input": "2025-07-11T00:04:47.881851Z",
     "iopub.status.busy": "2025-07-11T00:04:47.881506Z",
     "iopub.status.idle": "2025-07-11T00:04:47.923403Z",
     "shell.execute_reply": "2025-07-11T00:04:47.922309Z"
    },
    "papermill": {
     "duration": 0.047472,
     "end_time": "2025-07-11T00:04:47.924742",
     "exception": false,
     "start_time": "2025-07-11T00:04:47.877270",
     "status": "completed"
    },
    "tags": []
   },
   "outputs": [
    {
     "data": {
      "text/html": [
       "<div>\n",
       "<style scoped>\n",
       "    .dataframe tbody tr th:only-of-type {\n",
       "        vertical-align: middle;\n",
       "    }\n",
       "\n",
       "    .dataframe tbody tr th {\n",
       "        vertical-align: top;\n",
       "    }\n",
       "\n",
       "    .dataframe thead th {\n",
       "        text-align: right;\n",
       "    }\n",
       "</style>\n",
       "<table border=\"1\" class=\"dataframe\">\n",
       "  <thead>\n",
       "    <tr style=\"text-align: right;\">\n",
       "      <th></th>\n",
       "      <th>selling_price</th>\n",
       "      <th>year</th>\n",
       "      <th>km_driven</th>\n",
       "      <th>mileage</th>\n",
       "      <th>engine</th>\n",
       "      <th>max_power</th>\n",
       "      <th>age</th>\n",
       "      <th>Individual</th>\n",
       "      <th>Trustmark Dealer</th>\n",
       "      <th>Diesel</th>\n",
       "      <th>Electric</th>\n",
       "      <th>LPG</th>\n",
       "      <th>Petrol</th>\n",
       "      <th>Manual</th>\n",
       "      <th>5</th>\n",
       "      <th>&gt;5</th>\n",
       "    </tr>\n",
       "  </thead>\n",
       "  <tbody>\n",
       "    <tr>\n",
       "      <th>count</th>\n",
       "      <td>19820.000000</td>\n",
       "      <td>19820.000000</td>\n",
       "      <td>1.982000e+04</td>\n",
       "      <td>19820.000000</td>\n",
       "      <td>19820.000000</td>\n",
       "      <td>19820.000000</td>\n",
       "      <td>19820.000000</td>\n",
       "      <td>19820.000000</td>\n",
       "      <td>19820.000000</td>\n",
       "      <td>19820.000000</td>\n",
       "      <td>19820.000000</td>\n",
       "      <td>19820.000000</td>\n",
       "      <td>19820.000000</td>\n",
       "      <td>19820.000000</td>\n",
       "      <td>19820.000000</td>\n",
       "      <td>19820.000000</td>\n",
       "    </tr>\n",
       "    <tr>\n",
       "      <th>mean</th>\n",
       "      <td>6.585509</td>\n",
       "      <td>2014.561453</td>\n",
       "      <td>5.815856e+04</td>\n",
       "      <td>19.503402</td>\n",
       "      <td>1475.702381</td>\n",
       "      <td>98.122907</td>\n",
       "      <td>8.438547</td>\n",
       "      <td>0.390666</td>\n",
       "      <td>0.009586</td>\n",
       "      <td>0.492583</td>\n",
       "      <td>0.000404</td>\n",
       "      <td>0.003229</td>\n",
       "      <td>0.487841</td>\n",
       "      <td>0.802674</td>\n",
       "      <td>0.835015</td>\n",
       "      <td>0.152825</td>\n",
       "    </tr>\n",
       "    <tr>\n",
       "      <th>std</th>\n",
       "      <td>4.847364</td>\n",
       "      <td>3.196636</td>\n",
       "      <td>5.171563e+04</td>\n",
       "      <td>4.297784</td>\n",
       "      <td>518.571223</td>\n",
       "      <td>44.761727</td>\n",
       "      <td>3.196636</td>\n",
       "      <td>0.487912</td>\n",
       "      <td>0.097442</td>\n",
       "      <td>0.499958</td>\n",
       "      <td>0.020087</td>\n",
       "      <td>0.056734</td>\n",
       "      <td>0.499865</td>\n",
       "      <td>0.397990</td>\n",
       "      <td>0.371176</td>\n",
       "      <td>0.359828</td>\n",
       "    </tr>\n",
       "    <tr>\n",
       "      <th>min</th>\n",
       "      <td>0.300000</td>\n",
       "      <td>1992.000000</td>\n",
       "      <td>1.000000e+02</td>\n",
       "      <td>4.000000</td>\n",
       "      <td>0.000000</td>\n",
       "      <td>5.000000</td>\n",
       "      <td>2.000000</td>\n",
       "      <td>0.000000</td>\n",
       "      <td>0.000000</td>\n",
       "      <td>0.000000</td>\n",
       "      <td>0.000000</td>\n",
       "      <td>0.000000</td>\n",
       "      <td>0.000000</td>\n",
       "      <td>0.000000</td>\n",
       "      <td>0.000000</td>\n",
       "      <td>0.000000</td>\n",
       "    </tr>\n",
       "    <tr>\n",
       "      <th>25%</th>\n",
       "      <td>3.410000</td>\n",
       "      <td>2013.000000</td>\n",
       "      <td>3.100000e+04</td>\n",
       "      <td>16.950000</td>\n",
       "      <td>1197.000000</td>\n",
       "      <td>73.900000</td>\n",
       "      <td>6.000000</td>\n",
       "      <td>0.000000</td>\n",
       "      <td>0.000000</td>\n",
       "      <td>0.000000</td>\n",
       "      <td>0.000000</td>\n",
       "      <td>0.000000</td>\n",
       "      <td>0.000000</td>\n",
       "      <td>1.000000</td>\n",
       "      <td>1.000000</td>\n",
       "      <td>0.000000</td>\n",
       "    </tr>\n",
       "    <tr>\n",
       "      <th>50%</th>\n",
       "      <td>5.200000</td>\n",
       "      <td>2015.000000</td>\n",
       "      <td>5.200000e+04</td>\n",
       "      <td>19.300000</td>\n",
       "      <td>1248.000000</td>\n",
       "      <td>86.800000</td>\n",
       "      <td>8.000000</td>\n",
       "      <td>0.000000</td>\n",
       "      <td>0.000000</td>\n",
       "      <td>0.000000</td>\n",
       "      <td>0.000000</td>\n",
       "      <td>0.000000</td>\n",
       "      <td>0.000000</td>\n",
       "      <td>1.000000</td>\n",
       "      <td>1.000000</td>\n",
       "      <td>0.000000</td>\n",
       "    </tr>\n",
       "    <tr>\n",
       "      <th>75%</th>\n",
       "      <td>7.850000</td>\n",
       "      <td>2017.000000</td>\n",
       "      <td>7.400000e+04</td>\n",
       "      <td>22.320000</td>\n",
       "      <td>1582.000000</td>\n",
       "      <td>112.000000</td>\n",
       "      <td>10.000000</td>\n",
       "      <td>1.000000</td>\n",
       "      <td>0.000000</td>\n",
       "      <td>1.000000</td>\n",
       "      <td>0.000000</td>\n",
       "      <td>0.000000</td>\n",
       "      <td>1.000000</td>\n",
       "      <td>1.000000</td>\n",
       "      <td>1.000000</td>\n",
       "      <td>0.000000</td>\n",
       "    </tr>\n",
       "    <tr>\n",
       "      <th>max</th>\n",
       "      <td>20.902500</td>\n",
       "      <td>2021.000000</td>\n",
       "      <td>3.800000e+06</td>\n",
       "      <td>120.000000</td>\n",
       "      <td>6752.000000</td>\n",
       "      <td>626.000000</td>\n",
       "      <td>31.000000</td>\n",
       "      <td>1.000000</td>\n",
       "      <td>1.000000</td>\n",
       "      <td>1.000000</td>\n",
       "      <td>1.000000</td>\n",
       "      <td>1.000000</td>\n",
       "      <td>1.000000</td>\n",
       "      <td>1.000000</td>\n",
       "      <td>1.000000</td>\n",
       "      <td>1.000000</td>\n",
       "    </tr>\n",
       "  </tbody>\n",
       "</table>\n",
       "</div>"
      ],
      "text/plain": [
       "       selling_price          year     km_driven       mileage        engine  \\\n",
       "count   19820.000000  19820.000000  1.982000e+04  19820.000000  19820.000000   \n",
       "mean        6.585509   2014.561453  5.815856e+04     19.503402   1475.702381   \n",
       "std         4.847364      3.196636  5.171563e+04      4.297784    518.571223   \n",
       "min         0.300000   1992.000000  1.000000e+02      4.000000      0.000000   \n",
       "25%         3.410000   2013.000000  3.100000e+04     16.950000   1197.000000   \n",
       "50%         5.200000   2015.000000  5.200000e+04     19.300000   1248.000000   \n",
       "75%         7.850000   2017.000000  7.400000e+04     22.320000   1582.000000   \n",
       "max        20.902500   2021.000000  3.800000e+06    120.000000   6752.000000   \n",
       "\n",
       "          max_power           age    Individual  Trustmark Dealer  \\\n",
       "count  19820.000000  19820.000000  19820.000000      19820.000000   \n",
       "mean      98.122907      8.438547      0.390666          0.009586   \n",
       "std       44.761727      3.196636      0.487912          0.097442   \n",
       "min        5.000000      2.000000      0.000000          0.000000   \n",
       "25%       73.900000      6.000000      0.000000          0.000000   \n",
       "50%       86.800000      8.000000      0.000000          0.000000   \n",
       "75%      112.000000     10.000000      1.000000          0.000000   \n",
       "max      626.000000     31.000000      1.000000          1.000000   \n",
       "\n",
       "             Diesel      Electric           LPG        Petrol        Manual  \\\n",
       "count  19820.000000  19820.000000  19820.000000  19820.000000  19820.000000   \n",
       "mean       0.492583      0.000404      0.003229      0.487841      0.802674   \n",
       "std        0.499958      0.020087      0.056734      0.499865      0.397990   \n",
       "min        0.000000      0.000000      0.000000      0.000000      0.000000   \n",
       "25%        0.000000      0.000000      0.000000      0.000000      1.000000   \n",
       "50%        0.000000      0.000000      0.000000      0.000000      1.000000   \n",
       "75%        1.000000      0.000000      0.000000      1.000000      1.000000   \n",
       "max        1.000000      1.000000      1.000000      1.000000      1.000000   \n",
       "\n",
       "                  5            >5  \n",
       "count  19820.000000  19820.000000  \n",
       "mean       0.835015      0.152825  \n",
       "std        0.371176      0.359828  \n",
       "min        0.000000      0.000000  \n",
       "25%        1.000000      0.000000  \n",
       "50%        1.000000      0.000000  \n",
       "75%        1.000000      0.000000  \n",
       "max        1.000000      1.000000  "
      ]
     },
     "execution_count": 5,
     "metadata": {},
     "output_type": "execute_result"
    }
   ],
   "source": [
    "df.describe()"
   ]
  },
  {
   "cell_type": "code",
   "execution_count": 6,
   "id": "3a6ead0d",
   "metadata": {
    "execution": {
     "iopub.execute_input": "2025-07-11T00:04:47.933316Z",
     "iopub.status.busy": "2025-07-11T00:04:47.933043Z",
     "iopub.status.idle": "2025-07-11T00:04:47.942436Z",
     "shell.execute_reply": "2025-07-11T00:04:47.941834Z"
    },
    "papermill": {
     "duration": 0.014929,
     "end_time": "2025-07-11T00:04:47.943451",
     "exception": false,
     "start_time": "2025-07-11T00:04:47.928522",
     "status": "completed"
    },
    "tags": []
   },
   "outputs": [
    {
     "name": "stdout",
     "output_type": "stream",
     "text": [
      "unique values in make 41\n",
      "unique values in model 3233\n"
     ]
    }
   ],
   "source": [
    "print('unique values in make',df['make'].nunique())\n",
    "print('unique values in model',df['model'].nunique())"
   ]
  },
  {
   "cell_type": "code",
   "execution_count": 7,
   "id": "f833aefc",
   "metadata": {
    "execution": {
     "iopub.execute_input": "2025-07-11T00:04:47.951954Z",
     "iopub.status.busy": "2025-07-11T00:04:47.951692Z",
     "iopub.status.idle": "2025-07-11T00:04:47.976290Z",
     "shell.execute_reply": "2025-07-11T00:04:47.975688Z"
    },
    "papermill": {
     "duration": 0.030022,
     "end_time": "2025-07-11T00:04:47.977361",
     "exception": false,
     "start_time": "2025-07-11T00:04:47.947339",
     "status": "completed"
    },
    "tags": []
   },
   "outputs": [
    {
     "data": {
      "text/html": [
       "<div>\n",
       "<style scoped>\n",
       "    .dataframe tbody tr th:only-of-type {\n",
       "        vertical-align: middle;\n",
       "    }\n",
       "\n",
       "    .dataframe tbody tr th {\n",
       "        vertical-align: top;\n",
       "    }\n",
       "\n",
       "    .dataframe thead th {\n",
       "        text-align: right;\n",
       "    }\n",
       "</style>\n",
       "<table border=\"1\" class=\"dataframe\">\n",
       "  <thead>\n",
       "    <tr style=\"text-align: right;\">\n",
       "      <th></th>\n",
       "      <th>selling_price</th>\n",
       "      <th>year</th>\n",
       "      <th>km_driven</th>\n",
       "      <th>mileage</th>\n",
       "      <th>engine</th>\n",
       "      <th>max_power</th>\n",
       "      <th>age</th>\n",
       "      <th>make</th>\n",
       "      <th>model</th>\n",
       "      <th>Individual</th>\n",
       "      <th>Trustmark Dealer</th>\n",
       "      <th>Diesel</th>\n",
       "      <th>Electric</th>\n",
       "      <th>LPG</th>\n",
       "      <th>Petrol</th>\n",
       "      <th>Manual</th>\n",
       "      <th>5</th>\n",
       "      <th>&gt;5</th>\n",
       "    </tr>\n",
       "  </thead>\n",
       "  <tbody>\n",
       "    <tr>\n",
       "      <th>0</th>\n",
       "      <td>1.2</td>\n",
       "      <td>2012.0</td>\n",
       "      <td>120000</td>\n",
       "      <td>19.7</td>\n",
       "      <td>796.0</td>\n",
       "      <td>46.3</td>\n",
       "      <td>11.0</td>\n",
       "      <td>4.684721</td>\n",
       "      <td>1.18000</td>\n",
       "      <td>1</td>\n",
       "      <td>0</td>\n",
       "      <td>0</td>\n",
       "      <td>0</td>\n",
       "      <td>0</td>\n",
       "      <td>1</td>\n",
       "      <td>1</td>\n",
       "      <td>1</td>\n",
       "      <td>0</td>\n",
       "    </tr>\n",
       "    <tr>\n",
       "      <th>1</th>\n",
       "      <td>5.5</td>\n",
       "      <td>2016.0</td>\n",
       "      <td>20000</td>\n",
       "      <td>18.9</td>\n",
       "      <td>1197.0</td>\n",
       "      <td>82.0</td>\n",
       "      <td>7.0</td>\n",
       "      <td>5.458819</td>\n",
       "      <td>4.81875</td>\n",
       "      <td>1</td>\n",
       "      <td>0</td>\n",
       "      <td>0</td>\n",
       "      <td>0</td>\n",
       "      <td>0</td>\n",
       "      <td>1</td>\n",
       "      <td>1</td>\n",
       "      <td>1</td>\n",
       "      <td>0</td>\n",
       "    </tr>\n",
       "  </tbody>\n",
       "</table>\n",
       "</div>"
      ],
      "text/plain": [
       "   selling_price    year  km_driven  mileage  engine  max_power   age  \\\n",
       "0            1.2  2012.0     120000     19.7   796.0       46.3  11.0   \n",
       "1            5.5  2016.0      20000     18.9  1197.0       82.0   7.0   \n",
       "\n",
       "       make    model  Individual  Trustmark Dealer  Diesel  Electric  LPG  \\\n",
       "0  4.684721  1.18000           1                 0       0         0    0   \n",
       "1  5.458819  4.81875           1                 0       0         0    0   \n",
       "\n",
       "   Petrol  Manual  5  >5  \n",
       "0       1       1  1   0  \n",
       "1       1       1  1   0  "
      ]
     },
     "execution_count": 7,
     "metadata": {},
     "output_type": "execute_result"
    }
   ],
   "source": [
    "# target encoding\n",
    "\n",
    "df['make'] =  df.groupby('make')['selling_price'].transform('mean')\n",
    "df['model'] = df.groupby('model')['selling_price'].transform('mean')\n",
    "\n",
    "df.head(2)"
   ]
  },
  {
   "cell_type": "code",
   "execution_count": 8,
   "id": "e0fc2188",
   "metadata": {
    "execution": {
     "iopub.execute_input": "2025-07-11T00:04:47.986713Z",
     "iopub.status.busy": "2025-07-11T00:04:47.986401Z",
     "iopub.status.idle": "2025-07-11T00:04:47.995672Z",
     "shell.execute_reply": "2025-07-11T00:04:47.994714Z"
    },
    "papermill": {
     "duration": 0.015617,
     "end_time": "2025-07-11T00:04:47.996874",
     "exception": false,
     "start_time": "2025-07-11T00:04:47.981257",
     "status": "completed"
    },
    "tags": []
   },
   "outputs": [
    {
     "data": {
      "text/plain": [
       "((19820, 17), (19820,))"
      ]
     },
     "execution_count": 8,
     "metadata": {},
     "output_type": "execute_result"
    }
   ],
   "source": [
    "y = df['selling_price']\n",
    "X = df.drop(columns=['selling_price'])\n",
    "\n",
    "X.shape,y.shape"
   ]
  },
  {
   "cell_type": "code",
   "execution_count": 9,
   "id": "dc0a95cc",
   "metadata": {
    "execution": {
     "iopub.execute_input": "2025-07-11T00:04:48.005890Z",
     "iopub.status.busy": "2025-07-11T00:04:48.005579Z",
     "iopub.status.idle": "2025-07-11T00:04:49.442249Z",
     "shell.execute_reply": "2025-07-11T00:04:49.441468Z"
    },
    "papermill": {
     "duration": 1.442572,
     "end_time": "2025-07-11T00:04:49.443558",
     "exception": false,
     "start_time": "2025-07-11T00:04:48.000986",
     "status": "completed"
    },
    "tags": []
   },
   "outputs": [
    {
     "data": {
      "text/html": [
       "<div>\n",
       "<style scoped>\n",
       "    .dataframe tbody tr th:only-of-type {\n",
       "        vertical-align: middle;\n",
       "    }\n",
       "\n",
       "    .dataframe tbody tr th {\n",
       "        vertical-align: top;\n",
       "    }\n",
       "\n",
       "    .dataframe thead th {\n",
       "        text-align: right;\n",
       "    }\n",
       "</style>\n",
       "<table border=\"1\" class=\"dataframe\">\n",
       "  <thead>\n",
       "    <tr style=\"text-align: right;\">\n",
       "      <th></th>\n",
       "      <th>year</th>\n",
       "      <th>km_driven</th>\n",
       "      <th>mileage</th>\n",
       "      <th>engine</th>\n",
       "      <th>max_power</th>\n",
       "      <th>age</th>\n",
       "      <th>make</th>\n",
       "      <th>model</th>\n",
       "      <th>Individual</th>\n",
       "      <th>Trustmark Dealer</th>\n",
       "      <th>Diesel</th>\n",
       "      <th>Electric</th>\n",
       "      <th>LPG</th>\n",
       "      <th>Petrol</th>\n",
       "      <th>Manual</th>\n",
       "      <th>5</th>\n",
       "      <th>&gt;5</th>\n",
       "    </tr>\n",
       "  </thead>\n",
       "  <tbody>\n",
       "    <tr>\n",
       "      <th>0</th>\n",
       "      <td>0.689655</td>\n",
       "      <td>0.031553</td>\n",
       "      <td>0.135345</td>\n",
       "      <td>0.117891</td>\n",
       "      <td>0.066506</td>\n",
       "      <td>0.310345</td>\n",
       "      <td>0.194048</td>\n",
       "      <td>0.041550</td>\n",
       "      <td>1.0</td>\n",
       "      <td>0.0</td>\n",
       "      <td>0.0</td>\n",
       "      <td>0.0</td>\n",
       "      <td>0.0</td>\n",
       "      <td>1.0</td>\n",
       "      <td>1.0</td>\n",
       "      <td>1.0</td>\n",
       "      <td>0.0</td>\n",
       "    </tr>\n",
       "    <tr>\n",
       "      <th>1</th>\n",
       "      <td>0.827586</td>\n",
       "      <td>0.005237</td>\n",
       "      <td>0.128448</td>\n",
       "      <td>0.177281</td>\n",
       "      <td>0.123994</td>\n",
       "      <td>0.172414</td>\n",
       "      <td>0.232517</td>\n",
       "      <td>0.218382</td>\n",
       "      <td>1.0</td>\n",
       "      <td>0.0</td>\n",
       "      <td>0.0</td>\n",
       "      <td>0.0</td>\n",
       "      <td>0.0</td>\n",
       "      <td>1.0</td>\n",
       "      <td>1.0</td>\n",
       "      <td>1.0</td>\n",
       "      <td>0.0</td>\n",
       "    </tr>\n",
       "    <tr>\n",
       "      <th>2</th>\n",
       "      <td>0.620690</td>\n",
       "      <td>0.015764</td>\n",
       "      <td>0.112069</td>\n",
       "      <td>0.177281</td>\n",
       "      <td>0.120773</td>\n",
       "      <td>0.379310</td>\n",
       "      <td>0.232517</td>\n",
       "      <td>0.149143</td>\n",
       "      <td>1.0</td>\n",
       "      <td>0.0</td>\n",
       "      <td>0.0</td>\n",
       "      <td>0.0</td>\n",
       "      <td>0.0</td>\n",
       "      <td>1.0</td>\n",
       "      <td>1.0</td>\n",
       "      <td>1.0</td>\n",
       "      <td>0.0</td>\n",
       "    </tr>\n",
       "    <tr>\n",
       "      <th>3</th>\n",
       "      <td>0.689655</td>\n",
       "      <td>0.009711</td>\n",
       "      <td>0.145862</td>\n",
       "      <td>0.147808</td>\n",
       "      <td>0.100000</td>\n",
       "      <td>0.310345</td>\n",
       "      <td>0.194048</td>\n",
       "      <td>0.093193</td>\n",
       "      <td>1.0</td>\n",
       "      <td>0.0</td>\n",
       "      <td>0.0</td>\n",
       "      <td>0.0</td>\n",
       "      <td>0.0</td>\n",
       "      <td>1.0</td>\n",
       "      <td>1.0</td>\n",
       "      <td>1.0</td>\n",
       "      <td>0.0</td>\n",
       "    </tr>\n",
       "    <tr>\n",
       "      <th>4</th>\n",
       "      <td>0.793103</td>\n",
       "      <td>0.007869</td>\n",
       "      <td>0.161810</td>\n",
       "      <td>0.221860</td>\n",
       "      <td>0.150709</td>\n",
       "      <td>0.206897</td>\n",
       "      <td>0.252367</td>\n",
       "      <td>0.313574</td>\n",
       "      <td>0.0</td>\n",
       "      <td>0.0</td>\n",
       "      <td>1.0</td>\n",
       "      <td>0.0</td>\n",
       "      <td>0.0</td>\n",
       "      <td>0.0</td>\n",
       "      <td>1.0</td>\n",
       "      <td>1.0</td>\n",
       "      <td>0.0</td>\n",
       "    </tr>\n",
       "  </tbody>\n",
       "</table>\n",
       "</div>"
      ],
      "text/plain": [
       "       year  km_driven   mileage    engine  max_power       age      make  \\\n",
       "0  0.689655   0.031553  0.135345  0.117891   0.066506  0.310345  0.194048   \n",
       "1  0.827586   0.005237  0.128448  0.177281   0.123994  0.172414  0.232517   \n",
       "2  0.620690   0.015764  0.112069  0.177281   0.120773  0.379310  0.232517   \n",
       "3  0.689655   0.009711  0.145862  0.147808   0.100000  0.310345  0.194048   \n",
       "4  0.793103   0.007869  0.161810  0.221860   0.150709  0.206897  0.252367   \n",
       "\n",
       "      model  Individual  Trustmark Dealer  Diesel  Electric  LPG  Petrol  \\\n",
       "0  0.041550         1.0               0.0     0.0       0.0  0.0     1.0   \n",
       "1  0.218382         1.0               0.0     0.0       0.0  0.0     1.0   \n",
       "2  0.149143         1.0               0.0     0.0       0.0  0.0     1.0   \n",
       "3  0.093193         1.0               0.0     0.0       0.0  0.0     1.0   \n",
       "4  0.313574         0.0               0.0     1.0       0.0  0.0     0.0   \n",
       "\n",
       "   Manual    5   >5  \n",
       "0     1.0  1.0  0.0  \n",
       "1     1.0  1.0  0.0  \n",
       "2     1.0  1.0  0.0  \n",
       "3     1.0  1.0  0.0  \n",
       "4     1.0  1.0  0.0  "
      ]
     },
     "execution_count": 9,
     "metadata": {},
     "output_type": "execute_result"
    }
   ],
   "source": [
    "from sklearn.preprocessing import MinMaxScaler\n",
    "\n",
    "scaler = MinMaxScaler()\n",
    "\n",
    "X = pd.DataFrame(scaler.fit_transform(X),columns = X.columns )\n",
    "X.head()"
   ]
  },
  {
   "cell_type": "code",
   "execution_count": 10,
   "id": "3fcc028b",
   "metadata": {
    "execution": {
     "iopub.execute_input": "2025-07-11T00:04:49.453322Z",
     "iopub.status.busy": "2025-07-11T00:04:49.452891Z",
     "iopub.status.idle": "2025-07-11T00:04:49.554197Z",
     "shell.execute_reply": "2025-07-11T00:04:49.553400Z"
    },
    "papermill": {
     "duration": 0.107678,
     "end_time": "2025-07-11T00:04:49.555589",
     "exception": false,
     "start_time": "2025-07-11T00:04:49.447911",
     "status": "completed"
    },
    "tags": []
   },
   "outputs": [],
   "source": [
    "from sklearn.model_selection import train_test_split\n",
    "\n",
    "X_train, X_test , y_train ,y_test = train_test_split(X,y,test_size=0.25,random_state = 32)"
   ]
  },
  {
   "cell_type": "code",
   "execution_count": 11,
   "id": "d3ff2ba3",
   "metadata": {
    "execution": {
     "iopub.execute_input": "2025-07-11T00:04:49.564551Z",
     "iopub.status.busy": "2025-07-11T00:04:49.564304Z",
     "iopub.status.idle": "2025-07-11T00:04:49.712883Z",
     "shell.execute_reply": "2025-07-11T00:04:49.711325Z"
    },
    "papermill": {
     "duration": 0.154417,
     "end_time": "2025-07-11T00:04:49.714285",
     "exception": false,
     "start_time": "2025-07-11T00:04:49.559868",
     "status": "completed"
    },
    "tags": []
   },
   "outputs": [
    {
     "data": {
      "text/html": [
       "<style>#sk-container-id-1 {color: black;background-color: white;}#sk-container-id-1 pre{padding: 0;}#sk-container-id-1 div.sk-toggleable {background-color: white;}#sk-container-id-1 label.sk-toggleable__label {cursor: pointer;display: block;width: 100%;margin-bottom: 0;padding: 0.3em;box-sizing: border-box;text-align: center;}#sk-container-id-1 label.sk-toggleable__label-arrow:before {content: \"▸\";float: left;margin-right: 0.25em;color: #696969;}#sk-container-id-1 label.sk-toggleable__label-arrow:hover:before {color: black;}#sk-container-id-1 div.sk-estimator:hover label.sk-toggleable__label-arrow:before {color: black;}#sk-container-id-1 div.sk-toggleable__content {max-height: 0;max-width: 0;overflow: hidden;text-align: left;background-color: #f0f8ff;}#sk-container-id-1 div.sk-toggleable__content pre {margin: 0.2em;color: black;border-radius: 0.25em;background-color: #f0f8ff;}#sk-container-id-1 input.sk-toggleable__control:checked~div.sk-toggleable__content {max-height: 200px;max-width: 100%;overflow: auto;}#sk-container-id-1 input.sk-toggleable__control:checked~label.sk-toggleable__label-arrow:before {content: \"▾\";}#sk-container-id-1 div.sk-estimator input.sk-toggleable__control:checked~label.sk-toggleable__label {background-color: #d4ebff;}#sk-container-id-1 div.sk-label input.sk-toggleable__control:checked~label.sk-toggleable__label {background-color: #d4ebff;}#sk-container-id-1 input.sk-hidden--visually {border: 0;clip: rect(1px 1px 1px 1px);clip: rect(1px, 1px, 1px, 1px);height: 1px;margin: -1px;overflow: hidden;padding: 0;position: absolute;width: 1px;}#sk-container-id-1 div.sk-estimator {font-family: monospace;background-color: #f0f8ff;border: 1px dotted black;border-radius: 0.25em;box-sizing: border-box;margin-bottom: 0.5em;}#sk-container-id-1 div.sk-estimator:hover {background-color: #d4ebff;}#sk-container-id-1 div.sk-parallel-item::after {content: \"\";width: 100%;border-bottom: 1px solid gray;flex-grow: 1;}#sk-container-id-1 div.sk-label:hover label.sk-toggleable__label {background-color: #d4ebff;}#sk-container-id-1 div.sk-serial::before {content: \"\";position: absolute;border-left: 1px solid gray;box-sizing: border-box;top: 0;bottom: 0;left: 50%;z-index: 0;}#sk-container-id-1 div.sk-serial {display: flex;flex-direction: column;align-items: center;background-color: white;padding-right: 0.2em;padding-left: 0.2em;position: relative;}#sk-container-id-1 div.sk-item {position: relative;z-index: 1;}#sk-container-id-1 div.sk-parallel {display: flex;align-items: stretch;justify-content: center;background-color: white;position: relative;}#sk-container-id-1 div.sk-item::before, #sk-container-id-1 div.sk-parallel-item::before {content: \"\";position: absolute;border-left: 1px solid gray;box-sizing: border-box;top: 0;bottom: 0;left: 50%;z-index: -1;}#sk-container-id-1 div.sk-parallel-item {display: flex;flex-direction: column;z-index: 1;position: relative;background-color: white;}#sk-container-id-1 div.sk-parallel-item:first-child::after {align-self: flex-end;width: 50%;}#sk-container-id-1 div.sk-parallel-item:last-child::after {align-self: flex-start;width: 50%;}#sk-container-id-1 div.sk-parallel-item:only-child::after {width: 0;}#sk-container-id-1 div.sk-dashed-wrapped {border: 1px dashed gray;margin: 0 0.4em 0.5em 0.4em;box-sizing: border-box;padding-bottom: 0.4em;background-color: white;}#sk-container-id-1 div.sk-label label {font-family: monospace;font-weight: bold;display: inline-block;line-height: 1.2em;}#sk-container-id-1 div.sk-label-container {text-align: center;}#sk-container-id-1 div.sk-container {/* jupyter's `normalize.less` sets `[hidden] { display: none; }` but bootstrap.min.css set `[hidden] { display: none !important; }` so we also need the `!important` here to be able to override the default hidden behavior on the sphinx rendered scikit-learn.org. See: https://github.com/scikit-learn/scikit-learn/issues/21755 */display: inline-block !important;position: relative;}#sk-container-id-1 div.sk-text-repr-fallback {display: none;}</style><div id=\"sk-container-id-1\" class=\"sk-top-container\"><div class=\"sk-text-repr-fallback\"><pre>LinearRegression()</pre><b>In a Jupyter environment, please rerun this cell to show the HTML representation or trust the notebook. <br />On GitHub, the HTML representation is unable to render, please try loading this page with nbviewer.org.</b></div><div class=\"sk-container\" hidden><div class=\"sk-item\"><div class=\"sk-estimator sk-toggleable\"><input class=\"sk-toggleable__control sk-hidden--visually\" id=\"sk-estimator-id-1\" type=\"checkbox\" checked><label for=\"sk-estimator-id-1\" class=\"sk-toggleable__label sk-toggleable__label-arrow\">LinearRegression</label><div class=\"sk-toggleable__content\"><pre>LinearRegression()</pre></div></div></div></div></div>"
      ],
      "text/plain": [
       "LinearRegression()"
      ]
     },
     "execution_count": 11,
     "metadata": {},
     "output_type": "execute_result"
    }
   ],
   "source": [
    "from sklearn.linear_model import LinearRegression\n",
    "\n",
    "model = LinearRegression()\n",
    "\n",
    "model.fit(X_train,y_train)"
   ]
  },
  {
   "cell_type": "code",
   "execution_count": 12,
   "id": "ab556e01",
   "metadata": {
    "execution": {
     "iopub.execute_input": "2025-07-11T00:04:49.727963Z",
     "iopub.status.busy": "2025-07-11T00:04:49.726793Z",
     "iopub.status.idle": "2025-07-11T00:04:49.737774Z",
     "shell.execute_reply": "2025-07-11T00:04:49.737204Z"
    },
    "papermill": {
     "duration": 0.018872,
     "end_time": "2025-07-11T00:04:49.739102",
     "exception": false,
     "start_time": "2025-07-11T00:04:49.720230",
     "status": "completed"
    },
    "tags": []
   },
   "outputs": [
    {
     "data": {
      "text/plain": [
       "0.9419052001730144"
      ]
     },
     "execution_count": 12,
     "metadata": {},
     "output_type": "execute_result"
    }
   ],
   "source": [
    "r2_sq = model.score(X_test,y_test)\n",
    "r2_sq"
   ]
  },
  {
   "cell_type": "code",
   "execution_count": 13,
   "id": "ba2f9052",
   "metadata": {
    "execution": {
     "iopub.execute_input": "2025-07-11T00:04:49.752221Z",
     "iopub.status.busy": "2025-07-11T00:04:49.751700Z",
     "iopub.status.idle": "2025-07-11T00:04:49.758184Z",
     "shell.execute_reply": "2025-07-11T00:04:49.757700Z"
    },
    "papermill": {
     "duration": 0.014393,
     "end_time": "2025-07-11T00:04:49.759381",
     "exception": false,
     "start_time": "2025-07-11T00:04:49.744988",
     "status": "completed"
    },
    "tags": []
   },
   "outputs": [
    {
     "data": {
      "text/plain": [
       "0.9417051573135736"
      ]
     },
     "execution_count": 13,
     "metadata": {},
     "output_type": "execute_result"
    }
   ],
   "source": [
    "n = X_test.shape[0]\n",
    "d= X_test.shape[1]\n",
    "adjusted_r2 = 1 - (1- r2_sq) * ((n-1)/(n-d-1))\n",
    "adjusted_r2"
   ]
  },
  {
   "cell_type": "code",
   "execution_count": 14,
   "id": "0fa3d717",
   "metadata": {
    "execution": {
     "iopub.execute_input": "2025-07-11T00:04:49.771928Z",
     "iopub.status.busy": "2025-07-11T00:04:49.771654Z",
     "iopub.status.idle": "2025-07-11T00:04:49.778057Z",
     "shell.execute_reply": "2025-07-11T00:04:49.777542Z"
    },
    "papermill": {
     "duration": 0.013835,
     "end_time": "2025-07-11T00:04:49.779188",
     "exception": false,
     "start_time": "2025-07-11T00:04:49.765353",
     "status": "completed"
    },
    "tags": []
   },
   "outputs": [
    {
     "data": {
      "text/plain": [
       "-12854798094105.02"
      ]
     },
     "execution_count": 14,
     "metadata": {},
     "output_type": "execute_result"
    }
   ],
   "source": [
    "model.intercept_"
   ]
  },
  {
   "cell_type": "code",
   "execution_count": 15,
   "id": "e3f4be96",
   "metadata": {
    "execution": {
     "iopub.execute_input": "2025-07-11T00:04:49.792158Z",
     "iopub.status.busy": "2025-07-11T00:04:49.791898Z",
     "iopub.status.idle": "2025-07-11T00:04:49.798407Z",
     "shell.execute_reply": "2025-07-11T00:04:49.797940Z"
    },
    "papermill": {
     "duration": 0.014006,
     "end_time": "2025-07-11T00:04:49.799487",
     "exception": false,
     "start_time": "2025-07-11T00:04:49.785481",
     "status": "completed"
    },
    "tags": []
   },
   "outputs": [
    {
     "data": {
      "text/plain": [
       "array([ 1.28547981e+13, -5.17382812e+00, -5.13035060e+00,  1.01648580e+00,\n",
       "        1.05569681e+00,  1.28547981e+13,  1.56854937e+00,  1.77276605e+01,\n",
       "       -1.48803242e-01, -1.29116472e-01,  1.44550375e-01,  2.44909926e+00,\n",
       "        3.15774163e-01, -1.51586853e-01, -3.67899669e-02, -3.31047646e-01,\n",
       "       -4.85406223e-01])"
      ]
     },
     "execution_count": 15,
     "metadata": {},
     "output_type": "execute_result"
    }
   ],
   "source": [
    "model.coef_"
   ]
  },
  {
   "cell_type": "code",
   "execution_count": 16,
   "id": "85e53fda",
   "metadata": {
    "execution": {
     "iopub.execute_input": "2025-07-11T00:04:49.809863Z",
     "iopub.status.busy": "2025-07-11T00:04:49.809562Z",
     "iopub.status.idle": "2025-07-11T00:04:49.817625Z",
     "shell.execute_reply": "2025-07-11T00:04:49.817185Z"
    },
    "papermill": {
     "duration": 0.014243,
     "end_time": "2025-07-11T00:04:49.818789",
     "exception": false,
     "start_time": "2025-07-11T00:04:49.804546",
     "status": "completed"
    },
    "tags": []
   },
   "outputs": [
    {
     "data": {
      "text/html": [
       "<div>\n",
       "<style scoped>\n",
       "    .dataframe tbody tr th:only-of-type {\n",
       "        vertical-align: middle;\n",
       "    }\n",
       "\n",
       "    .dataframe tbody tr th {\n",
       "        vertical-align: top;\n",
       "    }\n",
       "\n",
       "    .dataframe thead th {\n",
       "        text-align: right;\n",
       "    }\n",
       "</style>\n",
       "<table border=\"1\" class=\"dataframe\">\n",
       "  <thead>\n",
       "    <tr style=\"text-align: right;\">\n",
       "      <th></th>\n",
       "      <th>features</th>\n",
       "      <th>coef</th>\n",
       "    </tr>\n",
       "  </thead>\n",
       "  <tbody>\n",
       "    <tr>\n",
       "      <th>0</th>\n",
       "      <td>year</td>\n",
       "      <td>1.285480e+13</td>\n",
       "    </tr>\n",
       "    <tr>\n",
       "      <th>5</th>\n",
       "      <td>age</td>\n",
       "      <td>1.285480e+13</td>\n",
       "    </tr>\n",
       "    <tr>\n",
       "      <th>7</th>\n",
       "      <td>model</td>\n",
       "      <td>1.772766e+01</td>\n",
       "    </tr>\n",
       "    <tr>\n",
       "      <th>1</th>\n",
       "      <td>km_driven</td>\n",
       "      <td>5.173828e+00</td>\n",
       "    </tr>\n",
       "    <tr>\n",
       "      <th>2</th>\n",
       "      <td>mileage</td>\n",
       "      <td>5.130351e+00</td>\n",
       "    </tr>\n",
       "    <tr>\n",
       "      <th>11</th>\n",
       "      <td>Electric</td>\n",
       "      <td>2.449099e+00</td>\n",
       "    </tr>\n",
       "    <tr>\n",
       "      <th>6</th>\n",
       "      <td>make</td>\n",
       "      <td>1.568549e+00</td>\n",
       "    </tr>\n",
       "    <tr>\n",
       "      <th>4</th>\n",
       "      <td>max_power</td>\n",
       "      <td>1.055697e+00</td>\n",
       "    </tr>\n",
       "    <tr>\n",
       "      <th>3</th>\n",
       "      <td>engine</td>\n",
       "      <td>1.016486e+00</td>\n",
       "    </tr>\n",
       "    <tr>\n",
       "      <th>16</th>\n",
       "      <td>&gt;5</td>\n",
       "      <td>4.854062e-01</td>\n",
       "    </tr>\n",
       "    <tr>\n",
       "      <th>15</th>\n",
       "      <td>5</td>\n",
       "      <td>3.310476e-01</td>\n",
       "    </tr>\n",
       "    <tr>\n",
       "      <th>12</th>\n",
       "      <td>LPG</td>\n",
       "      <td>3.157742e-01</td>\n",
       "    </tr>\n",
       "    <tr>\n",
       "      <th>13</th>\n",
       "      <td>Petrol</td>\n",
       "      <td>1.515869e-01</td>\n",
       "    </tr>\n",
       "    <tr>\n",
       "      <th>8</th>\n",
       "      <td>Individual</td>\n",
       "      <td>1.488032e-01</td>\n",
       "    </tr>\n",
       "    <tr>\n",
       "      <th>10</th>\n",
       "      <td>Diesel</td>\n",
       "      <td>1.445504e-01</td>\n",
       "    </tr>\n",
       "    <tr>\n",
       "      <th>9</th>\n",
       "      <td>Trustmark Dealer</td>\n",
       "      <td>1.291165e-01</td>\n",
       "    </tr>\n",
       "    <tr>\n",
       "      <th>14</th>\n",
       "      <td>Manual</td>\n",
       "      <td>3.678997e-02</td>\n",
       "    </tr>\n",
       "  </tbody>\n",
       "</table>\n",
       "</div>"
      ],
      "text/plain": [
       "            features          coef\n",
       "0               year  1.285480e+13\n",
       "5                age  1.285480e+13\n",
       "7              model  1.772766e+01\n",
       "1          km_driven  5.173828e+00\n",
       "2            mileage  5.130351e+00\n",
       "11          Electric  2.449099e+00\n",
       "6               make  1.568549e+00\n",
       "4          max_power  1.055697e+00\n",
       "3             engine  1.016486e+00\n",
       "16                >5  4.854062e-01\n",
       "15                 5  3.310476e-01\n",
       "12               LPG  3.157742e-01\n",
       "13            Petrol  1.515869e-01\n",
       "8         Individual  1.488032e-01\n",
       "10            Diesel  1.445504e-01\n",
       "9   Trustmark Dealer  1.291165e-01\n",
       "14            Manual  3.678997e-02"
      ]
     },
     "execution_count": 16,
     "metadata": {},
     "output_type": "execute_result"
    }
   ],
   "source": [
    "data = pd.DataFrame(list(zip(X.columns,np.abs(model.coef_))),columns = ['features','coef'])\n",
    "data = data.sort_values('coef', ascending = False)\n",
    "data"
   ]
  },
  {
   "cell_type": "code",
   "execution_count": 17,
   "id": "8e45f5f9",
   "metadata": {
    "execution": {
     "iopub.execute_input": "2025-07-11T00:04:49.830195Z",
     "iopub.status.busy": "2025-07-11T00:04:49.829897Z",
     "iopub.status.idle": "2025-07-11T00:04:50.604299Z",
     "shell.execute_reply": "2025-07-11T00:04:50.603259Z"
    },
    "papermill": {
     "duration": 0.782102,
     "end_time": "2025-07-11T00:04:50.605619",
     "exception": false,
     "start_time": "2025-07-11T00:04:49.823517",
     "status": "completed"
    },
    "tags": []
   },
   "outputs": [
    {
     "data": {
      "text/plain": [
       "<Axes: xlabel='coef', ylabel='features'>"
      ]
     },
     "execution_count": 17,
     "metadata": {},
     "output_type": "execute_result"
    },
    {
     "data": {
      "image/png": "[encoded data removed]",
      "text/plain": [
       "<Figure size 640x480 with 1 Axes>"
      ]
     },
     "metadata": {},
     "output_type": "display_data"
    }
   ],
   "source": [
    "import seaborn as sns\n",
    "\n",
    "sns.barplot(data = data , x = 'coef', y= 'features')"
   ]
  },
  {
   "cell_type": "code",
   "execution_count": 18,
   "id": "21308fff",
   "metadata": {
    "execution": {
     "iopub.execute_input": "2025-07-11T00:04:50.617168Z",
     "iopub.status.busy": "2025-07-11T00:04:50.616756Z",
     "iopub.status.idle": "2025-07-11T00:04:52.072805Z",
     "shell.execute_reply": "2025-07-11T00:04:52.072148Z"
    },
    "papermill": {
     "duration": 1.463266,
     "end_time": "2025-07-11T00:04:52.074258",
     "exception": false,
     "start_time": "2025-07-11T00:04:50.610992",
     "status": "completed"
    },
    "tags": []
   },
   "outputs": [],
   "source": [
    "import statsmodels.api as sm"
   ]
  },
  {
   "cell_type": "code",
   "execution_count": 19,
   "id": "7f8ffad9",
   "metadata": {
    "execution": {
     "iopub.execute_input": "2025-07-11T00:04:52.085287Z",
     "iopub.status.busy": "2025-07-11T00:04:52.084855Z",
     "iopub.status.idle": "2025-07-11T00:04:52.155141Z",
     "shell.execute_reply": "2025-07-11T00:04:52.154110Z"
    },
    "papermill": {
     "duration": 0.077066,
     "end_time": "2025-07-11T00:04:52.156364",
     "exception": false,
     "start_time": "2025-07-11T00:04:52.079298",
     "status": "completed"
    },
    "tags": []
   },
   "outputs": [
    {
     "name": "stdout",
     "output_type": "stream",
     "text": [
      "                            OLS Regression Results                            \n",
      "==============================================================================\n",
      "Dep. Variable:                      y   R-squared:                       0.947\n",
      "Model:                            OLS   Adj. R-squared:                  0.947\n",
      "Method:                 Least Squares   F-statistic:                 1.663e+04\n",
      "Date:                Fri, 11 Jul 2025   Prob (F-statistic):               0.00\n",
      "Time:                        00:04:52   Log-Likelihood:                -22754.\n",
      "No. Observations:               14865   AIC:                         4.554e+04\n",
      "Df Residuals:                   14848   BIC:                         4.567e+04\n",
      "Df Model:                          16                                         \n",
      "Covariance Type:            nonrobust                                         \n",
      "====================================================================================\n",
      "                       coef    std err          t      P>|t|      [0.025      0.975]\n",
      "------------------------------------------------------------------------------------\n",
      "const            -7.478e+12   1.92e+12     -3.885      0.000   -1.12e+13   -3.71e+12\n",
      "year              7.478e+12   1.92e+12      3.885      0.000    3.71e+12    1.12e+13\n",
      "km_driven           -5.1425      0.689     -7.464      0.000      -6.493      -3.792\n",
      "mileage             -5.1253      0.443    -11.570      0.000      -5.994      -4.257\n",
      "engine               1.0339      0.302      3.421      0.001       0.442       1.626\n",
      "max_power            1.0302      0.284      3.633      0.000       0.474       1.586\n",
      "age               7.478e+12   1.92e+12      3.885      0.000    3.71e+12    1.12e+13\n",
      "make                 1.5624      0.093     16.835      0.000       1.381       1.744\n",
      "model               17.7367      0.100    177.815      0.000      17.541      17.932\n",
      "Individual          -0.1486      0.020     -7.557      0.000      -0.187      -0.110\n",
      "Trustmark Dealer    -0.1299      0.093     -1.400      0.162      -0.312       0.052\n",
      "Diesel               0.1447      0.074      1.953      0.051      -0.001       0.290\n",
      "Electric             2.4255      0.479      5.066      0.000       1.487       3.364\n",
      "LPG                  0.3257      0.176      1.846      0.065      -0.020       0.672\n",
      "Petrol              -0.1483      0.076     -1.947      0.052      -0.298       0.001\n",
      "Manual              -0.0389      0.031     -1.262      0.207      -0.099       0.021\n",
      "5                   -0.3285      0.085     -3.845      0.000      -0.496      -0.161\n",
      ">5                  -0.4855      0.092     -5.250      0.000      -0.667      -0.304\n",
      "==============================================================================\n",
      "Omnibus:                     2978.167   Durbin-Watson:                   1.969\n",
      "Prob(Omnibus):                  0.000   Jarque-Bera (JB):            68176.367\n",
      "Skew:                           0.371   Prob(JB):                         0.00\n",
      "Kurtosis:                      13.465   Cond. No.                     7.23e+14\n",
      "==============================================================================\n",
      "\n",
      "Notes:\n",
      "[1] Standard Errors assume that the covariance matrix of the errors is correctly specified.\n",
      "[2] The smallest eigenvalue is 1.13e-25. This might indicate that there are\n",
      "strong multicollinearity problems or that the design matrix is singular.\n"
     ]
    }
   ],
   "source": [
    "y_train = np.array(y_train)\n",
    "\n",
    "X_sm = sm.add_constant(X_train)\n",
    "\n",
    "model = sm.OLS(y_train,X_sm)\n",
    "\n",
    "results = model.fit()\n",
    "\n",
    "print(results.summary())"
   ]
  },
  {
   "cell_type": "code",
   "execution_count": 20,
   "id": "336b1aa9",
   "metadata": {
    "execution": {
     "iopub.execute_input": "2025-07-11T00:04:52.168096Z",
     "iopub.status.busy": "2025-07-11T00:04:52.167795Z",
     "iopub.status.idle": "2025-07-11T00:04:52.835253Z",
     "shell.execute_reply": "2025-07-11T00:04:52.834525Z"
    },
    "papermill": {
     "duration": 0.674796,
     "end_time": "2025-07-11T00:04:52.836398",
     "exception": false,
     "start_time": "2025-07-11T00:04:52.161602",
     "status": "completed"
    },
    "tags": []
   },
   "outputs": [
    {
     "name": "stdout",
     "output_type": "stream",
     "text": [
      "Selected features: ['km_driven', 'age', 'model', 'Individual', 'Trustmark Dealer', 'Electric', 'LPG', 'Petrol', 'Manual', '>5']\n",
      "Removed in order: ['year', '5', 'engine', 'Diesel', 'max_power', 'make', 'mileage']\n",
      "Final adjusted R²: 0.944\n",
      "            feature   vif\n",
      "0               age  4.58\n",
      "1            Manual  4.01\n",
      "2         km_driven  2.45\n",
      "3            Petrol  2.03\n",
      "4             model  1.88\n",
      "5        Individual  1.72\n",
      "6                >5  1.40\n",
      "7  Trustmark Dealer  1.03\n",
      "8               LPG  1.02\n",
      "9          Electric  1.00\n"
     ]
    }
   ],
   "source": [
    "# Now we would like to write a function where we can remove features who have VIF > threshold(5) or adj R2 goes below 0.85\n",
    "\n",
    "import pandas as pd\n",
    "import statsmodels.api as sm\n",
    "from statsmodels.stats.outliers_influence import variance_inflation_factor\n",
    "\n",
    "def iterative_vif_feature_selection(X_scaled, y, \n",
    "                                    vif_threshold=5.0, \n",
    "                                    r2_threshold=0.85, \n",
    "                                    init_drop=None):\n",
    "    \"\"\"\n",
    "    Iteratively remove the feature with the highest VIF until all VIFs \n",
    "    are below vif_threshold or adjusted R² drops below r2_threshold.\n",
    "    \n",
    "    Parameters\n",
    "    ----------\n",
    "    X_scaled : array-like or DataFrame\n",
    "        Scaled feature matrix.\n",
    "    y : array-like\n",
    "        Target vector.\n",
    "    vif_threshold : float\n",
    "        Maximum allowed variance inflation factor.\n",
    "    r2_threshold : float\n",
    "        Minimum acceptable adjusted R².\n",
    "    init_drop : list of str, optional\n",
    "        Features to drop before starting the iteration.\n",
    "        \n",
    "    Returns\n",
    "    -------\n",
    "    selected_features : list of str\n",
    "        Features that remain.\n",
    "    removed_features : list of str\n",
    "        Features removed in order.\n",
    "    final_vif : DataFrame\n",
    "        VIFs of the remaining features.\n",
    "    final_adj_r2 : float\n",
    "        Adjusted R² of the final model.\n",
    "    \"\"\"\n",
    "    # Prepare\n",
    "    X_df = pd.DataFrame(X_scaled, columns=X_train.columns)\n",
    "    features = list(X_df.columns)\n",
    "    removed = init_drop[:] if init_drop else []\n",
    "    \n",
    "    # Initial drop\n",
    "    if removed:\n",
    "        for feat in removed:\n",
    "            features.remove(feat)\n",
    "    \n",
    "    while True:\n",
    "        # Compute VIFs\n",
    "        X_sub = X_df[features]\n",
    "        vif_data = (\n",
    "            pd.DataFrame({\n",
    "                'feature': features,\n",
    "                'vif': [\n",
    "                    variance_inflation_factor(X_sub.values, idx)\n",
    "                    for idx in range(X_sub.shape[1])\n",
    "                ]\n",
    "            })\n",
    "            .assign(vif=lambda df: df.vif.round(2))\n",
    "            .sort_values('vif', ascending=False)\n",
    "            .reset_index(drop=True)\n",
    "        )\n",
    "        \n",
    "        # Fit OLS with intercept\n",
    "        X_with_const = sm.add_constant(X_sub)\n",
    "        model = sm.OLS(y, X_with_const).fit()\n",
    "        adj_r2 = model.rsquared_adj\n",
    "        \n",
    "        # Check stopping criteria\n",
    "        highest_vif = vif_data.loc[0, 'vif']\n",
    "        if highest_vif < vif_threshold or adj_r2 < r2_threshold:\n",
    "            break\n",
    "        \n",
    "        # Drop the feature with highest VIF\n",
    "        to_drop = vif_data.loc[0, 'feature']\n",
    "        features.remove(to_drop)\n",
    "        removed.append(to_drop)\n",
    "    \n",
    "    return features, removed, vif_data, adj_r2\n",
    "\n",
    "\n",
    "# Usage\n",
    "selected_feats, feats_removed, final_vif_df, final_adj_r2 = iterative_vif_feature_selection(\n",
    "    X_scaled = X_train,\n",
    "    y        = y_train,\n",
    "    vif_threshold = 5.0,\n",
    "    r2_threshold  = 0.87,\n",
    "    init_drop     = []\n",
    ")\n",
    "\n",
    "print(\"Selected features:\", selected_feats)\n",
    "print(\"Removed in order:\", feats_removed)\n",
    "print(\"Final adjusted R²:\", round(final_adj_r2, 3))\n",
    "print(final_vif_df)\n"
   ]
  },
  {
   "cell_type": "code",
   "execution_count": 21,
   "id": "1e9b8906",
   "metadata": {
    "execution": {
     "iopub.execute_input": "2025-07-11T00:04:52.848026Z",
     "iopub.status.busy": "2025-07-11T00:04:52.847748Z",
     "iopub.status.idle": "2025-07-11T00:04:52.866973Z",
     "shell.execute_reply": "2025-07-11T00:04:52.865964Z"
    },
    "papermill": {
     "duration": 0.0267,
     "end_time": "2025-07-11T00:04:52.868530",
     "exception": false,
     "start_time": "2025-07-11T00:04:52.841830",
     "status": "completed"
    },
    "tags": []
   },
   "outputs": [
    {
     "name": "stdout",
     "output_type": "stream",
     "text": [
      "                            OLS Regression Results                            \n",
      "==============================================================================\n",
      "Dep. Variable:                      y   R-squared:                       0.947\n",
      "Model:                            OLS   Adj. R-squared:                  0.947\n",
      "Method:                 Least Squares   F-statistic:                 1.663e+04\n",
      "Date:                Fri, 11 Jul 2025   Prob (F-statistic):               0.00\n",
      "Time:                        00:04:52   Log-Likelihood:                -22754.\n",
      "No. Observations:               14865   AIC:                         4.554e+04\n",
      "Df Residuals:                   14848   BIC:                         4.567e+04\n",
      "Df Model:                          16                                         \n",
      "Covariance Type:            nonrobust                                         \n",
      "====================================================================================\n",
      "                       coef    std err          t      P>|t|      [0.025      0.975]\n",
      "------------------------------------------------------------------------------------\n",
      "const            -7.478e+12   1.92e+12     -3.885      0.000   -1.12e+13   -3.71e+12\n",
      "year              7.478e+12   1.92e+12      3.885      0.000    3.71e+12    1.12e+13\n",
      "km_driven           -5.1425      0.689     -7.464      0.000      -6.493      -3.792\n",
      "mileage             -5.1253      0.443    -11.570      0.000      -5.994      -4.257\n",
      "engine               1.0339      0.302      3.421      0.001       0.442       1.626\n",
      "max_power            1.0302      0.284      3.633      0.000       0.474       1.586\n",
      "age               7.478e+12   1.92e+12      3.885      0.000    3.71e+12    1.12e+13\n",
      "make                 1.5624      0.093     16.835      0.000       1.381       1.744\n",
      "model               17.7367      0.100    177.815      0.000      17.541      17.932\n",
      "Individual          -0.1486      0.020     -7.557      0.000      -0.187      -0.110\n",
      "Trustmark Dealer    -0.1299      0.093     -1.400      0.162      -0.312       0.052\n",
      "Diesel               0.1447      0.074      1.953      0.051      -0.001       0.290\n",
      "Electric             2.4255      0.479      5.066      0.000       1.487       3.364\n",
      "LPG                  0.3257      0.176      1.846      0.065      -0.020       0.672\n",
      "Petrol              -0.1483      0.076     -1.947      0.052      -0.298       0.001\n",
      "Manual              -0.0389      0.031     -1.262      0.207      -0.099       0.021\n",
      "5                   -0.3285      0.085     -3.845      0.000      -0.496      -0.161\n",
      ">5                  -0.4855      0.092     -5.250      0.000      -0.667      -0.304\n",
      "==============================================================================\n",
      "Omnibus:                     2978.167   Durbin-Watson:                   1.969\n",
      "Prob(Omnibus):                  0.000   Jarque-Bera (JB):            68176.367\n",
      "Skew:                           0.371   Prob(JB):                         0.00\n",
      "Kurtosis:                      13.465   Cond. No.                     7.23e+14\n",
      "==============================================================================\n",
      "\n",
      "Notes:\n",
      "[1] Standard Errors assume that the covariance matrix of the errors is correctly specified.\n",
      "[2] The smallest eigenvalue is 1.13e-25. This might indicate that there are\n",
      "strong multicollinearity problems or that the design matrix is singular.\n"
     ]
    }
   ],
   "source": [
    "X_new = X_train[selected_feats]\n",
    "X_sm = sm.add_constant(X_new)\n",
    "ols_model = sm.OLS(y_train,X_sm)\n",
    "\n",
    "results =  model.fit()\n",
    "print(results.summary())"
   ]
  },
  {
   "cell_type": "code",
   "execution_count": null,
   "id": "4d40b60a",
   "metadata": {
    "execution": {
     "iopub.execute_input": "2025-07-11T00:03:30.686942Z",
     "iopub.status.busy": "2025-07-11T00:03:30.686246Z",
     "iopub.status.idle": "2025-07-11T00:03:30.705836Z",
     "shell.execute_reply": "2025-07-11T00:03:30.705003Z",
     "shell.execute_reply.started": "2025-07-11T00:03:30.686911Z"
    },
    "papermill": {
     "duration": 0.004831,
     "end_time": "2025-07-11T00:04:52.878936",
     "exception": false,
     "start_time": "2025-07-11T00:04:52.874105",
     "status": "completed"
    },
    "tags": []
   },
   "outputs": [],
   "source": []
  },
  {
   "cell_type": "code",
   "execution_count": null,
   "id": "1d82084c",
   "metadata": {
    "papermill": {
     "duration": 0.004773,
     "end_time": "2025-07-11T00:04:52.888690",
     "exception": false,
     "start_time": "2025-07-11T00:04:52.883917",
     "status": "completed"
    },
    "tags": []
   },
   "outputs": [],
   "source": []
  }
 ],
 "metadata": {
  "kaggle": {
   "accelerator": "none",
   "dataSources": [
    {
     "datasetId": 7837369,
     "sourceId": 12425639,
     "sourceType": "datasetVersion"
    }
   ],
   "dockerImageVersionId": 31089,
   "isGpuEnabled": false,
   "isInternetEnabled": true,
   "language": "python",
   "sourceType": "notebook"
  },
  "kernelspec": {
   "display_name": "Python 3",
   "language": "python",
   "name": "python3"
  },
  "language_info": {
   "codemirror_mode": {
    "name": "ipython",
    "version": 3
   },
   "file_extension": ".py",
   "mimetype": "text/x-python",
   "name": "python",
   "nbconvert_exporter": "python",
   "pygments_lexer": "ipython3",
   "version": "3.11.13"
  },
  "papermill": {
   "default_parameters": {},
   "duration": 11.185919,
   "end_time": "2025-07-11T00:04:53.613239",
   "environment_variables": {},
   "exception": null,
   "input_path": "__notebook__.ipynb",
   "output_path": "__notebook__.ipynb",
   "parameters": {},
   "start_time": "2025-07-11T00:04:42.427320",
   "version": "2.6.0"
  }
 },
 "nbformat": 4,
 "nbformat_minor": 5
}
